{
 "cells": [
  {
   "cell_type": "markdown",
   "metadata": {},
   "source": [
    "![](https://cdn-images-1.medium.com/max/1600/1*b8WOAfAfdzlsPq6MkkJmOw.jpeg)"
   ]
  },
  {
   "cell_type": "code",
   "execution_count": 68,
   "metadata": {},
   "outputs": [],
   "source": [
    "import numpy as np\n",
    "\n",
    "def Q_learning(env, num_episodes = 1000, eps = 1, alpha = 0.1, gamma = 0.9):\n",
    "    \"\"\"\n",
    "    Implements tabular Q-learning\n",
    "    \n",
    "    Args:\n",
    "        env: openai gym environment\n",
    "        num_episodes (int): Number of episodes\n",
    "        eps (float): Epsilon for Epsilon-greedy policy, in [0, 1]\n",
    "        alpha (float): Learning Rate\n",
    "        gamma (float): Discount factor\n",
    "    Returns:\n",
    "    \n",
    "    \"\"\"\n",
    "    \n",
    "    Q = np.zeros([env.nS, env.nA])\n",
    "    \n",
    "    for i in range(num_episodes):\n",
    "        s = env.reset()\n",
    "        \n",
    "        done = False\n",
    "        while not done:\n",
    "            a = env.action_space.sample() if np.random.rand() < eps else np.argmax(Q[s, :])\n",
    "            s_prime, r, done, _ = env.step(a)\n",
    "            \n",
    "            Q[s, a] += alpha * (r + gamma * np.max(Q[s_prime, :]) - Q[s, a])\n",
    "            \n",
    "            s = np.array(s_prime) \n",
    "            \n",
    "        eps -= eps/num_episodes\n",
    "        \n",
    "    return Q"
   ]
  },
  {
   "cell_type": "code",
   "execution_count": 69,
   "metadata": {},
   "outputs": [
    {
     "data": {
      "text/plain": [
       "1.0"
      ]
     },
     "execution_count": 69,
     "metadata": {},
     "output_type": "execute_result"
    }
   ],
   "source": [
    "import gym\n",
    "\n",
    "env = gym.make('FrozenLake-v0', is_slippery = False)\n",
    "\n",
    "Q = Q_learning(env)\n",
    "\n",
    "ret = 0\n",
    "\n",
    "for _ in range(100):\n",
    "    s = env.reset()\n",
    "\n",
    "    done = False\n",
    "    while not done:\n",
    "        a = np.argmax(Q[s, :])\n",
    "        s, r, done, _ = env.step(a)\n",
    "        ret += r\n",
    "        \n",
    "ret/100"
   ]
  },
  {
   "cell_type": "code",
   "execution_count": 80,
   "metadata": {},
   "outputs": [
    {
     "data": {
      "text/plain": [
       "0.16"
      ]
     },
     "execution_count": 80,
     "metadata": {},
     "output_type": "execute_result"
    }
   ],
   "source": [
    "import gym\n",
    "\n",
    "env = gym.make('FrozenLake-v0')\n",
    "\n",
    "Q = Q_learning(env, num_episodes = 10000, eps = 1, alpha = 0.8, gamma = 0.95)\n",
    "\n",
    "ret = 0\n",
    "\n",
    "for _ in range(100):\n",
    "    s = env.reset()\n",
    "\n",
    "    done = False\n",
    "    while not done:\n",
    "        a = np.argmax(Q[s, :])\n",
    "        s, r, done, _ = env.step(a)\n",
    "        ret += r\n",
    "        \n",
    "ret/100"
   ]
  },
  {
   "cell_type": "code",
   "execution_count": 79,
   "metadata": {},
   "outputs": [
    {
     "name": "stdout",
     "output_type": "stream",
     "text": [
      "Score over time: 0.423\n"
     ]
    }
   ],
   "source": [
    "env = gym.make('FrozenLake-v0')\n",
    "\n",
    "#Initialize table with all zeros\n",
    "Q = np.zeros([env.observation_space.n,env.action_space.n])\n",
    "# Set learning parameters\n",
    "lr = .8\n",
    "y = .95\n",
    "num_episodes = 2000\n",
    "#create lists to contain total rewards and steps per episode\n",
    "#jList = []\n",
    "rList = []\n",
    "for i in range(num_episodes):\n",
    "    #Reset environment and get first new observation\n",
    "    s = env.reset()\n",
    "    rAll = 0\n",
    "    d = False\n",
    "    j = 0\n",
    "    #The Q-Table learning algorithm\n",
    "    while j < 99:\n",
    "        j+=1\n",
    "        #Choose an action by greedily (with noise) picking from Q table\n",
    "        a = np.argmax(Q[s,:] + np.random.randn(1,env.action_space.n)*(1./(i+1)))\n",
    "        #Get new state and reward from environment\n",
    "        s1,r,d,_ = env.step(a)\n",
    "        #Update Q-Table with new knowledge\n",
    "        Q[s,a] = Q[s,a] + lr*(r + y*np.max(Q[s1,:]) - Q[s,a])\n",
    "        rAll += r\n",
    "        s = s1\n",
    "        if d == True:\n",
    "            break\n",
    "    #jList.append(j)\n",
    "    rList.append(rAll)\n",
    "    \n",
    "print(\"Score over time: \" +  str(sum(rList)/num_episodes))"
   ]
  },
  {
   "cell_type": "code",
   "execution_count": 58,
   "metadata": {},
   "outputs": [
    {
     "data": {
      "text/plain": [
       "array([2, 3, 0, 3, 0, 0, 0, 0, 3, 1, 0, 0, 0, 2, 3, 0], dtype=int64)"
      ]
     },
     "execution_count": 58,
     "metadata": {},
     "output_type": "execute_result"
    }
   ],
   "source": [
    "np.argmax(Q, axis=1)"
   ]
  }
 ],
 "metadata": {
  "kernelspec": {
   "display_name": "Python 3",
   "language": "python",
   "name": "python3"
  },
  "language_info": {
   "codemirror_mode": {
    "name": "ipython",
    "version": 3
   },
   "file_extension": ".py",
   "mimetype": "text/x-python",
   "name": "python",
   "nbconvert_exporter": "python",
   "pygments_lexer": "ipython3",
   "version": "3.7.7"
  }
 },
 "nbformat": 4,
 "nbformat_minor": 4
}
