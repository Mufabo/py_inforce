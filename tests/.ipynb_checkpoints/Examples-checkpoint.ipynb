{
 "cells": [
  {
   "cell_type": "markdown",
   "metadata": {},
   "source": [
    "# Dynamic Programming"
   ]
  },
  {
   "cell_type": "markdown",
   "metadata": {},
   "source": [
    "## Policy Iteration on FrozenLake"
   ]
  },
  {
   "cell_type": "code",
   "execution_count": 31,
   "metadata": {},
   "outputs": [
    {
     "data": {
      "text/plain": [
       "0.78"
      ]
     },
     "execution_count": 31,
     "metadata": {},
     "output_type": "execute_result"
    }
   ],
   "source": [
    "import py_inforce as pin\n",
    "import gym\n",
    "import numpy as np\n",
    "\n",
    "env = gym.make('FrozenLake-v0', is_slippery=True)  \n",
    "\n",
    "policy = pin.policy_iteration(env, .95, thresh=0.00001)\n",
    "\n",
    "returns = []\n",
    "\n",
    "for i in range(100):\n",
    "    state = env.reset()\n",
    "\n",
    "    done = False\n",
    "    ret = 0\n",
    "\n",
    "    while not done:\n",
    "        action = np.where(policy[state, :] == 1)\n",
    "        state, reward, done, _ = env.step(action[0][0])\n",
    "        ret += reward\n",
    "    returns.append(ret)\n",
    "    \n",
    "sum(returns)/100"
   ]
  },
  {
   "cell_type": "markdown",
   "metadata": {},
   "source": [
    "## Value Iteration on FrozenLake"
   ]
  },
  {
   "cell_type": "code",
   "execution_count": 23,
   "metadata": {},
   "outputs": [
    {
     "data": {
      "text/plain": [
       "0.84"
      ]
     },
     "execution_count": 23,
     "metadata": {},
     "output_type": "execute_result"
    }
   ],
   "source": [
    "import gym\n",
    "import numpy as np\n",
    "import py_inforce as pin\n",
    "\n",
    "env = gym.make('FrozenLake-v0', is_slippery=True)  \n",
    "\n",
    "policy, _ = pin.value_iteration(env)\n",
    "\n",
    "returns = []\n",
    "\n",
    "for i in range(100):\n",
    "    state = env.reset()\n",
    "\n",
    "    done = False\n",
    "    ret = 0\n",
    "\n",
    "    while not done:\n",
    "        action = np.where(policy[state, :] == 1)\n",
    "        state, reward, done, _ = env.step(action[0][0])\n",
    "        ret += reward\n",
    "    returns.append(ret)\n",
    "    \n",
    "sum(returns)/100"
   ]
  },
  {
   "cell_type": "markdown",
   "metadata": {},
   "source": [
    "# Policy Gradient Methods"
   ]
  },
  {
   "cell_type": "markdown",
   "metadata": {},
   "source": [
    "## REINFORCE on Cartpole"
   ]
  },
  {
   "cell_type": "code",
   "execution_count": 13,
   "metadata": {},
   "outputs": [
    {
     "data": {
      "text/plain": [
       "10.0"
      ]
     },
     "execution_count": 13,
     "metadata": {},
     "output_type": "execute_result"
    }
   ],
   "source": [
    "from torch.distributions import Categorical\n",
    "import gym\n",
    "import torch.nn as nn\n",
    "from py_inforce.generic.mlp import MLP\n",
    "from py_inforce.policy_based.REINFORCE import REINFORCE\n",
    "import torch.optim as optim\n",
    "import torch\n",
    "import numpy as np\n",
    "import py_inforce as pin\n",
    "\n",
    "env = gym.make('CartPole-v0')\n",
    "in_dim = env.observation_space.shape[0] # 4\n",
    "out_dim = env.action_space.n # 2\n",
    "cart_agent = MLP([in_dim, 128, 128, out_dim], nn.ReLU)\n",
    "optimizer = optim.Adam(cart_agent.parameters(), lr=cart_agent.lr)\n",
    "\n",
    "# Stops when the agent achieves a score of 200 just once\n",
    "pin.REINFORCE(cart_agent, env, Categorical, optimizer, 200, bf = lambda x: x - x.mean(), MAX_EPISODES=500, EARLY = lambda x: x == 200)\n",
    "\n",
    "done = False\n",
    "\n",
    "state = env.reset()\n",
    "rewards = 0\n",
    "\n",
    "while not done:\n",
    "    state = torch.from_numpy(state.astype(np.float32))\n",
    "    pd = Categorical(logits=cart_agent.forward(state))\n",
    "    action = pd.sample()\n",
    "    state, reward, done, _ = env.step(action.numpy())\n",
    "    rewards += reward\n",
    "    #env.render()\n",
    "    \n",
    "rewards"
   ]
  },
  {
   "cell_type": "markdown",
   "metadata": {},
   "source": [
    "# Temporal Difference Learning"
   ]
  },
  {
   "cell_type": "markdown",
   "metadata": {},
   "source": [
    "## SARSA"
   ]
  },
  {
   "cell_type": "code",
   "execution_count": null,
   "metadata": {},
   "outputs": [],
   "source": []
  }
 ],
 "metadata": {
  "kernelspec": {
   "display_name": "Python 3",
   "language": "python",
   "name": "python3"
  },
  "language_info": {
   "codemirror_mode": {
    "name": "ipython",
    "version": 3
   },
   "file_extension": ".py",
   "mimetype": "text/x-python",
   "name": "python",
   "nbconvert_exporter": "python",
   "pygments_lexer": "ipython3",
   "version": "3.7.7"
  }
 },
 "nbformat": 4,
 "nbformat_minor": 4
}
