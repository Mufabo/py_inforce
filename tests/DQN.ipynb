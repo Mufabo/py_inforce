{
 "cells": [
  {
   "cell_type": "code",
   "execution_count": 1,
   "metadata": {},
   "outputs": [],
   "source": [
    "import torch\n",
    "\n",
    "def DQN(env, memory, q_net, t_net, optim, steps = 10000, eps = 1, disc_factor = 0.99, loss = torch.nn.MSELoss(), batch_sz = 128, tgt_update = 10, early = True,\n",
    "        eps_decay = lambda eps, max_steps, step: eps - eps/max_steps,\n",
    "        act = lambda s, eps, env: torch.tensor(env.action_space.sample()) if torch.rand(1) < eps else q_net(s).max(0)[1]):\n",
    "\n",
    "    optimizer = optim(q_net.parameters(), lr = q_net.lr)\n",
    "    ret = 0\n",
    "    returns = []\n",
    "    s = torch.tensor(env.reset(), dtype=torch.float32)  \n",
    "    for step in range(steps):      \n",
    "        a = act(s, eps, env)\n",
    "\n",
    "        s_prime, r, done, _ = env.step(a.numpy())\n",
    "        s_prime = torch.tensor(s_prime, dtype=torch.float32)\n",
    "        eps = eps_decay(eps, steps, step)\n",
    "        \n",
    "        memory.push(s, a, r, s_prime, done)\n",
    "        ret += r\n",
    "        # Optimize\n",
    "        if step >= batch_sz:\n",
    "            s_, a_, r_, s_p, d_ = memory.sample(batch_sz)            \n",
    "            y = r_ + disc_factor * q_net(s_p).max(1)[0] * (1 - d_)  \n",
    "            predictions = q_net(s_).gather(1, a_.long()).flatten()          \n",
    "            l = loss(y, predictions)\n",
    "            optimizer.zero_grad()\n",
    "            l.backward()\n",
    "            optimizer.step()\n",
    "            \n",
    "        if step % tgt_update == 0:\n",
    "            t_net.load_state_dict(q_net.state_dict())\n",
    "        \n",
    "        # Test for early break\n",
    "        if early and done:\n",
    "            ret = 0\n",
    "            for _ in range(100):\n",
    "                done = False\n",
    "                state = torch.tensor(env.reset(), dtype=torch.float32)\n",
    "                while not done:\n",
    "                    s, r, done, _ = env.step(torch.argmax(q_net(s)).numpy())\n",
    "                    s = torch.tensor(s, dtype=torch.float32)\n",
    "                    ret += r\n",
    "            if 195 <= ret/100:\n",
    "                print('converged in %i steps' %step)\n",
    "                break\n",
    "                    \n",
    "        s = torch.tensor(env.reset(), dtype=torch.float32) if done else s_prime\n",
    "\n",
    "        "
   ]
  },
  {
   "cell_type": "markdown",
   "metadata": {},
   "source": [
    "# $\\epsilon$-greedy"
   ]
  },
  {
   "cell_type": "code",
   "execution_count": 4,
   "metadata": {},
   "outputs": [],
   "source": [
    "# Exponential decay\n",
    "\n",
    "\n",
    "def exp_decay(s, max_steps, step):\n",
    "    return 0.01 + (1 - 0.01) * math.exp(-1. * step / 500)\n",
    "    "
   ]
  },
  {
   "cell_type": "markdown",
   "metadata": {},
   "source": [
    "# Replay Memory"
   ]
  },
  {
   "cell_type": "code",
   "execution_count": 5,
   "metadata": {},
   "outputs": [],
   "source": [
    "import random\n",
    "import torch\n",
    "\n",
    "class ReplayMemory():\n",
    "\n",
    "    def __init__(self, capacity, state_dim, action_dim):\n",
    "        self.capacity = capacity\n",
    "        self.s = torch.zeros([capacity, state_dim])\n",
    "        self.a = torch.zeros([capacity, 1])\n",
    "        self.r = torch.zeros([capacity])\n",
    "        self.s_prime = torch.zeros([capacity, state_dim])\n",
    "        self.done = torch.zeros([capacity])\n",
    "        self.mem_ptr = 0\n",
    "\n",
    "    def push(self, s, a, r, s_prime, done):\n",
    "        self.s[self.mem_ptr] = s\n",
    "        self.a[self.mem_ptr] = a\n",
    "        self.r[self.mem_ptr] = r\n",
    "        self.s_prime[self.mem_ptr] = s_prime\n",
    "        self.done[self.mem_ptr] = done\n",
    "        self.mem_ptr = (self.mem_ptr + 1) % self.capacity\n",
    "        \n",
    "    def sample(self, batch_size):\n",
    "        idx = torch.randperm(self.s.shape[0])[:batch_size]\n",
    "        return self.s[idx], self.a[idx], self.r[idx], self.s_prime[idx], self.done[idx]\n",
    "\n",
    "    def __len__(self):\n",
    "        return len(self.memory)"
   ]
  },
  {
   "cell_type": "markdown",
   "metadata": {},
   "source": [
    "# Testrun"
   ]
  },
  {
   "cell_type": "code",
   "execution_count": 48,
   "metadata": {},
   "outputs": [
    {
     "name": "stdout",
     "output_type": "stream",
     "text": [
      "converged in 2369 steps\n"
     ]
    }
   ],
   "source": [
    "from torch.distributions import Categorical\n",
    "import gym\n",
    "import torch.nn as nn\n",
    "from py_inforce.generic.mlp import MLP\n",
    "#from py_inforce.value_based.DQN import DQN\n",
    "#from py_inforce.generic.Memory import ReplayMemory\n",
    "import torch.optim as optim\n",
    "import torch\n",
    "import numpy as np\n",
    "import math\n",
    "\n",
    "env = gym.make('CartPole-v0')\n",
    "in_dim = env.observation_space.shape[0] # 4\n",
    "out_dim = env.action_space.n # 2\n",
    "q_net = MLP([in_dim, 128, 128, out_dim], nn.ReLU, LEARN_RATE = 0.005)\n",
    "t_net = MLP([in_dim, 128, 128, out_dim], nn.ReLU)\n",
    "optimizer = optim.Adam\n",
    "memory = ReplayMemory(1000, in_dim, out_dim)\n",
    "\n",
    "DQN(env, memory, q_net, t_net, optimizer, steps = 10_000, eps = 1, disc_factor = 0.99, loss = torch.nn.MSELoss(), batch_sz = 32, tgt_update = 100)\n"
   ]
  },
  {
   "cell_type": "code",
   "execution_count": 49,
   "metadata": {},
   "outputs": [
    {
     "data": {
      "text/plain": [
       "196.08"
      ]
     },
     "execution_count": 49,
     "metadata": {},
     "output_type": "execute_result"
    }
   ],
   "source": [
    "ret = 0\n",
    "for i in range(100):\n",
    "    s = torch.tensor(env.reset(), dtype=torch.float32)\n",
    "    done = False\n",
    "    \n",
    "    while not done:\n",
    "        s, r, done, _ = env.step(torch.argmax(q_net(s)).numpy())\n",
    "        s = torch.tensor(s, dtype=torch.float32)\n",
    "        ret += r\n",
    "ret/100"
   ]
  },
  {
   "cell_type": "code",
   "execution_count": 235,
   "metadata": {},
   "outputs": [
    {
     "data": {
      "text/plain": [
       "tensor([ 2,  8, 18])"
      ]
     },
     "execution_count": 235,
     "metadata": {},
     "output_type": "execute_result"
    }
   ],
   "source": [
    "torch.tensor([1,2,3]) * torch.tensor([2, 4, 6])"
   ]
  },
  {
   "cell_type": "code",
   "execution_count": 143,
   "metadata": {},
   "outputs": [
    {
     "data": {
      "text/plain": [
       "(tensor([[-0.0449, -0.0448, -0.0150,  0.0103],\n",
       "         [-0.0449, -0.0448, -0.0150,  0.0103],\n",
       "         [-0.0449, -0.0448, -0.0150,  0.0103],\n",
       "         [-0.0449, -0.0448, -0.0150,  0.0103],\n",
       "         [-0.0449, -0.0448, -0.0150,  0.0103]]),\n",
       " tensor([[0.0197, 0.0036],\n",
       "         [0.0197, 0.0036],\n",
       "         [0.0197, 0.0036],\n",
       "         [0.0197, 0.0036],\n",
       "         [0.0197, 0.0036]], grad_fn=<AddmmBackward>),\n",
       " tensor([0.0197, 0.0197, 0.0197, 0.0197, 0.0197], grad_fn=<MaxBackward0>))"
      ]
     },
     "execution_count": 143,
     "metadata": {},
     "output_type": "execute_result"
    }
   ],
   "source": [
    "s = torch.tensor(env.reset(), dtype=torch.float32)\n",
    "s_ = torch.stack([s,s,s,s,s])\n",
    "q_net = MLP([in_dim, 128, 128, out_dim], nn.ReLU)\n",
    "s_, q_net(s_), q_net(s_).max(1)[0]"
   ]
  },
  {
   "cell_type": "code",
   "execution_count": 275,
   "metadata": {},
   "outputs": [
    {
     "data": {
      "text/plain": [
       "tensor(13.)"
      ]
     },
     "execution_count": 275,
     "metadata": {},
     "output_type": "execute_result"
    }
   ],
   "source": [
    "l = torch.nn.MSELoss()\n",
    "l(torch.tensor([1,2,3,4,5,6,7.0]), torch.ones(7))"
   ]
  }
 ],
 "metadata": {
  "kernelspec": {
   "display_name": "Python 3",
   "language": "python",
   "name": "python3"
  },
  "language_info": {
   "codemirror_mode": {
    "name": "ipython",
    "version": 3
   },
   "file_extension": ".py",
   "mimetype": "text/x-python",
   "name": "python",
   "nbconvert_exporter": "python",
   "pygments_lexer": "ipython3",
   "version": "3.7.7"
  }
 },
 "nbformat": 4,
 "nbformat_minor": 4
}
