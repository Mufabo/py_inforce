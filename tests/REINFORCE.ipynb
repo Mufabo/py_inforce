{
 "cells": [
  {
   "cell_type": "code",
   "execution_count": 1,
   "metadata": {},
   "outputs": [
    {
     "data": {
      "text/plain": [
       "187.0"
      ]
     },
     "execution_count": 1,
     "metadata": {},
     "output_type": "execute_result"
    }
   ],
   "source": [
    "from torch.distributions import Categorical\n",
    "import gym\n",
    "import torch.nn as nn\n",
    "from py_inforce.generic.mlp import MLP\n",
    "from py_inforce.policy_based.REINFORCE import REINFORCE\n",
    "import torch.optim as optim\n",
    "import torch\n",
    "import numpy as np\n",
    "\n",
    "env = gym.make('CartPole-v0')\n",
    "in_dim = env.observation_space.shape[0] # 4\n",
    "out_dim = env.action_space.n # 2\n",
    "cart_agent = MLP([in_dim, 128, 128, out_dim], nn.ReLU)\n",
    "optimizer = optim.Adam(cart_agent.parameters(), lr=cart_agent.lr)\n",
    "\n",
    "REINFORCE(cart_agent, env, Categorical, optimizer, 200, bf = lambda x: x - x.mean(), MAX_EPISODES=500, EARLY = lambda x: x == 200)\n",
    "\n",
    "######\n",
    "# Test\n",
    "######\n",
    "\n",
    "done = False\n",
    "\n",
    "state = env.reset()\n",
    "rewards = 0\n",
    "\n",
    "while not done:\n",
    "    state = torch.from_numpy(state.astype(np.float32))\n",
    "    pd = Categorical(logits=cart_agent.forward(state))\n",
    "    action = pd.sample()\n",
    "    state, reward, done, _ = env.step(action.numpy())\n",
    "    rewards += reward\n",
    "    #env.render()\n",
    "    \n",
    "rewards"
   ]
  },
  {
   "cell_type": "code",
   "execution_count": 7,
   "metadata": {},
   "outputs": [
    {
     "data": {
      "text/plain": [
       "array([-1.38629436,  0.        ,  0.        ,  0.        ,  0.        ])"
      ]
     },
     "execution_count": 7,
     "metadata": {},
     "output_type": "execute_result"
    }
   ],
   "source": [
    "import torch\n",
    "import numpy as np\n",
    "\n",
    "d = np.zeros(5)\n",
    "m = Categorical(torch.tensor([ 0.25, 0.25, 0.25, 0.25 ]))\n",
    "a = m.sample()\n",
    "d[0] = m.log_prob(a)\n",
    "d"
   ]
  },
  {
   "cell_type": "code",
   "execution_count": 42,
   "metadata": {},
   "outputs": [],
   "source": [
    "import torch\n",
    "import torch.nn as nn\n",
    "import numpy as np\n",
    "\n",
    "def REINFORCE(agent, env, dist, optimizer, EPI_LEN , bf = lambda x: x, DISC_FACTOR = 0.95, MAX_EPISODES = 300, EARLY = lambda x: False):\n",
    "  \"\"\"\n",
    "  A first implementation of the REINFORCE Algorithm.\n",
    "  \n",
    "  Works only on discrete action spaces so far\n",
    "\n",
    "  Args:\n",
    "    agent:   Acting agent/policy estimator eg a multilayer perceptron that will be trained \n",
    "    env:     Environment\n",
    "    dist:    Parametric torch distribution\n",
    "    optimizer: Torch optimizer\n",
    "    EPI_LEN:   (uint) Max number of steps in an Episode.\n",
    "    bf: (function: 1d torch.tensor -> 1d torch.tensor) basis function for scaling of returns. Default identity function\n",
    "    DISC_FACTOR: (float) Discount factor aka gamma\n",
    "    MAX_EPISODES: Number of episodes that should be sampled. Default = 300\n",
    "    EARLY: (function: 1d-sequence -> Boolean) Function that returns true if training should be early stopped depending on achieved rewards\n",
    "    \n",
    "\n",
    "  Examples:\n",
    "    from torch.distributions import Categorical\n",
    "    import gym\n",
    "    import torch.nn as nn\n",
    "    from py_inforce.generic.mlp import MLP\n",
    "    import torch.optim as optim\n",
    "\n",
    "    env = gym.make('CartPole-v0')\n",
    "    in_dim = env.observation_space.shape[0] # 4\n",
    "    out_dim = env.action_space.n # 2\n",
    "    cart_agent = MLP([in_dim, 128, 128, out_dim], nn.ReLU)\n",
    "    optimizer = optim.Adam(cart_agent.parameters(), lr=cart_agent.lr)\n",
    "\n",
    "    REINFORCE(cart_agent, env, Categorical, optimizer, 200, bf = lambda x: x - x.mean(), MAX_EPISODES=500, EARLY = lambda x: x == 200)\n",
    "  \"\"\"\n",
    "  for episode in range(MAX_EPISODES):\n",
    "    #####################\n",
    "    # Sample a trajectory\n",
    "    #####################\n",
    "    done = False\n",
    "\n",
    "    state = env.reset()\n",
    "\n",
    "    rewards = torch.zeros(EPI_LEN)\n",
    "    log_probs = torch.zeros(EPI_LEN)\n",
    "    \n",
    "    step = 0\n",
    "    while not done:\n",
    "      state = torch.from_numpy(state.astype(np.float32))\n",
    "      pd = dist(logits=agent.forward(state))\n",
    "      action = pd.sample()\n",
    "      state, reward, done, _ = env.step(action.numpy())\n",
    "      rewards[step] = reward\n",
    "      log_probs[step] = pd.log_prob(value=action)\n",
    "      step += 1\n",
    "\n",
    "\n",
    "    ############################\n",
    "    # Compute discounted Returns\n",
    "    ############################\n",
    "\n",
    "    returns = torch.zeros(step)\n",
    "    ret = 0.0\n",
    "    for t in reversed(range(step)):\n",
    "      ret = rewards[t] + DISC_FACTOR * ret\n",
    "      returns[t] = ret\n",
    "    \n",
    "    returns = bf(returns) \n",
    "    \n",
    "    ###################    \n",
    "    # Update policy net\n",
    "    ###################\n",
    "    \n",
    "    log_probs = log_probs[:step]\n",
    "    loss = torch.sum(- log_probs * returns)\n",
    "    \n",
    "    optimizer.zero_grad()\n",
    "    loss.backward()\n",
    "    optimizer.step()\n",
    "    \n",
    "    if EARLY(sum(rewards)):\n",
    "        break\n",
    "\n",
    "#######    \n",
    "# Train\n",
    "#######\n",
    "\n",
    "from torch.distributions import Categorical\n",
    "import gym\n",
    "import torch.nn as nn\n",
    "from py_inforce.generic.mlp import MLP\n",
    "import torch.optim as optim\n",
    "\n",
    "env = gym.make('CartPole-v0')\n",
    "in_dim = env.observation_space.shape[0] # 4\n",
    "out_dim = env.action_space.n # 2\n",
    "cart_agent = MLP([in_dim, 128, 128, out_dim], nn.ReLU)\n",
    "optimizer = optim.Adam(cart_agent.parameters(), lr=cart_agent.lr)\n",
    "\n",
    "REINFORCE(cart_agent, env, Categorical, optimizer, 200, bf = lambda x: x - x.mean(), MAX_EPISODES=500, EARLY = lambda x: x == 200)"
   ]
  },
  {
   "cell_type": "code",
   "execution_count": 53,
   "metadata": {},
   "outputs": [
    {
     "data": {
      "text/plain": [
       "200.0"
      ]
     },
     "execution_count": 53,
     "metadata": {},
     "output_type": "execute_result"
    }
   ],
   "source": [
    "######\n",
    "# Test\n",
    "######\n",
    "\n",
    "done = False\n",
    "\n",
    "state = env.reset()\n",
    "rewards = 0\n",
    "\n",
    "while not done:\n",
    "    state = torch.from_numpy(state.astype(np.float32))\n",
    "    pd = Categorical(logits=cart_agent.forward(state))\n",
    "    action = pd.sample()\n",
    "    state, reward, done, _ = env.step(action.numpy())\n",
    "    rewards += reward\n",
    "    #env.render()\n",
    "    \n",
    "rewards"
   ]
  },
  {
   "cell_type": "code",
   "execution_count": 32,
   "metadata": {},
   "outputs": [
    {
     "data": {
      "text/plain": [
       "MLP(\n",
       "  (model): Sequential(\n",
       "    (0): Linear(in_features=4, out_features=128, bias=True)\n",
       "    (1): ReLU()\n",
       "    (2): Linear(in_features=128, out_features=128, bias=True)\n",
       "    (3): ReLU()\n",
       "    (4): Linear(in_features=128, out_features=2, bias=True)\n",
       "  )\n",
       ")"
      ]
     },
     "execution_count": 32,
     "metadata": {},
     "output_type": "execute_result"
    }
   ],
   "source": [
    "cart_agent"
   ]
  },
  {
   "cell_type": "code",
   "execution_count": 56,
   "metadata": {},
   "outputs": [
    {
     "data": {
      "text/plain": [
       "Parameter containing:\n",
       "tensor([[ 0.4122,  0.4504,  0.4007,  0.8678],\n",
       "        [ 0.5437,  0.4246, -0.0835,  0.0781],\n",
       "        [ 0.2869, -0.2023, -0.3366, -0.2826],\n",
       "        [ 0.0464,  0.7584, -0.2475,  0.3501],\n",
       "        [ 0.0872,  0.0964, -0.6560,  0.6187],\n",
       "        [ 0.2616,  0.2514, -0.1930, -0.8168]], requires_grad=True)"
      ]
     },
     "execution_count": 56,
     "metadata": {},
     "output_type": "execute_result"
    }
   ],
   "source": [
    "import torch \n",
    "import torch.nn as nn\n",
    "import numpy as np\n",
    "\n",
    "class MLP(nn.Module):\n",
    "  \"\"\"\n",
    "  Multilayer perceptron template\n",
    "  \"\"\"\n",
    "  def __init__(self, dims, activation = nn.ReLU, weight_init = None, LEARN_RATE = 0.01):\n",
    "    \"\"\"\n",
    "    Generic template for multilayer perceptrons\n",
    "    \n",
    "    Args:\n",
    "      dims: (1d iterable) eg list, contains sizes of each layer\n",
    "      activation: (function) Activation function. Default is torch.nn.ReLU\n",
    "      weight_init: (function) Initializes weights. Default torch.nn.init.xavier_uniform_. Applied to each layernn.apply\n",
    "      LEARN_RATE: (float) learning rate. DEFAULT = 0.01. Passed on to optimizer\n",
    "      \n",
    "    Examples:\n",
    "      cart_agent = MLP([4, 6, 6, 2])\n",
    "      cart_agent = MLP([4, 6, 6, 2], nn.LeakyReLU)\n",
    "      \n",
    "      def weight_init(m):\n",
    "        torch.nn.init.xavier_normal_(m.weight)\n",
    "        m.bias.data.fill_(0.01) \n",
    "\n",
    "      cart_agent = MLP([4, 6, 6, 2], nn.LeakyReLU, weight_init)\n",
    "    \"\"\"\n",
    "    super(MLP, self).__init__()\n",
    "    \n",
    "    if weight_init == None:   \n",
    "        def weight_init(m):\n",
    "            torch.nn.init.xavier_uniform_(m.weight)\n",
    "            m.bias.data.fill_(0.01) \n",
    "    \n",
    "    layers = []\n",
    "\n",
    "    layers.append(nn.Linear(dims[0], dims[1]))\n",
    "    weight_init(layers[-1])\n",
    "    \n",
    "    for d in range(1, len(dims) - 1):\n",
    "      layers.append(activation())\n",
    "      layers.append(nn.Linear(dims[d], dims[d+1]))\n",
    "      weight_init(layers[-1])\n",
    "    \n",
    "  \n",
    "    self.model = nn.Sequential(*layers)\n",
    "\n",
    "    self.lr = LEARN_RATE\n",
    "\n",
    "  def forward(self, x):\n",
    "    return self.model(x)\n",
    "\n",
    "\n",
    "def weight_init(m):\n",
    "    torch.nn.init.xavier_normal_(m.weight)\n",
    "    m.bias.data.fill_(0.01) \n",
    "\n",
    "cart_agent = MLP([4, 6, 6, 2], nn.LeakyReLU, weight_init)\n",
    "\n",
    "\n",
    "cart_agent.model[0].weight"
   ]
  }
 ],
 "metadata": {
  "kernelspec": {
   "display_name": "Python 3",
   "language": "python",
   "name": "python3"
  },
  "language_info": {
   "codemirror_mode": {
    "name": "ipython",
    "version": 3
   },
   "file_extension": ".py",
   "mimetype": "text/x-python",
   "name": "python",
   "nbconvert_exporter": "python",
   "pygments_lexer": "ipython3",
   "version": "3.7.7"
  }
 },
 "nbformat": 4,
 "nbformat_minor": 4
}
