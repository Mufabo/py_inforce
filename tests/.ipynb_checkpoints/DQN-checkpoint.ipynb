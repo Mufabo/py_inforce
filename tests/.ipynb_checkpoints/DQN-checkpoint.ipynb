{
 "cells": [
  {
   "cell_type": "code",
   "execution_count": 3,
   "metadata": {},
   "outputs": [],
   "source": [
    "import torch\n",
    "\n",
    "def DQN(env, memory, q_net, t_net, optim, steps = 10000, eps = 1, eps_decay = lambda eps, max_steps: eps - eps/max_steps, disc_factor = 0.99, loss = torch.nn.MSELoss(), batch_sz = 128, tgt_update = 10, act = epsilon_greedy):\n",
    "    optimizer = optim(q_net.parameters(), lr = q_net.LEARN_RATE)\n",
    "    for step in range(steps):\n",
    "        s = torch.tensor(env.reset(), dtype=torch.float32)        \n",
    "        a = act(s, eps, env)\n",
    "\n",
    "        s_prime, r, done, _ = env.step(a.numpy())\n",
    "        s_prime = torch.tensor(s_prime, dtype=torch.float32)\n",
    "        eps = eps_decay(eps, steps)\n",
    "        s =  s_prime if not done else torch.tensor(env.reset(), dtype=torch.float32)\n",
    "        memory.push(s, a, r, s_prime, done)\n",
    "\n",
    "        # Optimize\n",
    "        if step >= batch_sz:\n",
    "            s_, a_, r_, s_p, d_ = memory.sample(batch_sz)            \n",
    "            y = r_ + disc_factor * q_net(s_p).max(1)[0] * (1 - d_)  \n",
    "            predictions = q_net(s_).gather(1, a_.long()).flatten()          \n",
    "            l = loss(y, predictions)\n",
    "            optimizer.zero_grad()\n",
    "            l.backward()\n",
    "            optimizer.step()\n",
    "            \n",
    "        if step % tgt_update == 0:\n",
    "            t_net.load_state_dict(q_net.state_dict())\n",
    "            "
   ]
  },
  {
   "cell_type": "markdown",
   "metadata": {},
   "source": [
    "# $\\epsilon$-greedy"
   ]
  },
  {
   "cell_type": "code",
   "execution_count": 2,
   "metadata": {},
   "outputs": [],
   "source": [
    "epsilon_greedy = lambda s, eps, env: torch.tensor(env.action_space.sample()) if torch.rand(1) < eps else q_net(s).max(0)[1]"
   ]
  },
  {
   "cell_type": "code",
   "execution_count": 110,
   "metadata": {},
   "outputs": [
    {
     "data": {
      "text/plain": [
       "(array([ 0.01109608, -0.2091233 ,  0.02877503,  0.32829724]), 1.0, False, {})"
      ]
     },
     "execution_count": 110,
     "metadata": {},
     "output_type": "execute_result"
    }
   ],
   "source": [
    "import gym\n",
    "from py_inforce import *\n",
    "import torch.nn as nn\n",
    "\n",
    "in_dim = env.observation_space.shape[0] # 4\n",
    "out_dim = env.action_space.n # 2\n",
    "q_net = MLP([in_dim, 128, 128, out_dim], nn.ReLU, LEARN_RATE = 0.005)\n",
    "\n",
    "act = epsilon_greedy\n",
    "\n",
    "env = gym.make('CartPole-v0')\n",
    "s = torch.tensor(env.reset(), dtype=torch.float32)\n",
    "\n",
    "a = act(s, 0.5, env)\n",
    "\n",
    "env.step(a.numpy())"
   ]
  },
  {
   "cell_type": "markdown",
   "metadata": {},
   "source": [
    "# Replay Memory"
   ]
  },
  {
   "cell_type": "code",
   "execution_count": 4,
   "metadata": {},
   "outputs": [],
   "source": [
    "import random\n",
    "import torch\n",
    "\n",
    "class ReplayMemory():\n",
    "\n",
    "    def __init__(self, capacity, state_dim, action_dim):\n",
    "        self.capacity = capacity\n",
    "        self.s = torch.zeros([capacity, state_dim])\n",
    "        self.a = torch.zeros([capacity, 1])\n",
    "        self.r = torch.zeros([capacity])\n",
    "        self.s_prime = torch.zeros([capacity, state_dim])\n",
    "        self.done = torch.zeros([capacity])\n",
    "        self.mem_ptr = 0\n",
    "\n",
    "    def push(self, s, a, r, s_prime, done):\n",
    "        self.s[self.mem_ptr] = s\n",
    "        self.a[self.mem_ptr] = a\n",
    "        self.r[self.mem_ptr] = r\n",
    "        self.s_prime[self.mem_ptr] = s_prime\n",
    "        self.done[self.mem_ptr] = done\n",
    "        self.mem_ptr = (self.mem_ptr + 1) % self.capacity\n",
    "        \n",
    "    def sample(self, batch_size):\n",
    "        idx = torch.randperm(self.s.shape[0])[:batch_size]\n",
    "        return self.s[idx], self.a[idx], self.r[idx], self.s_prime[idx], self.done[idx]\n",
    "\n",
    "    def __len__(self):\n",
    "        return len(self.memory)"
   ]
  },
  {
   "cell_type": "markdown",
   "metadata": {},
   "source": [
    "# Testrun"
   ]
  },
  {
   "cell_type": "code",
   "execution_count": null,
   "metadata": {},
   "outputs": [],
   "source": [
    "from torch.distributions import Categorical\n",
    "import gym\n",
    "import torch.nn as nn\n",
    "from py_inforce.generic.mlp import MLP\n",
    "#from py_inforce.value_based.DQN import DQN\n",
    "import torch.optim as optim\n",
    "import torch\n",
    "import numpy as np\n",
    "\n",
    "env = gym.make('CartPole-v0')\n",
    "in_dim = env.observation_space.shape[0] # 4\n",
    "out_dim = env.action_space.n # 2\n",
    "q_net = MLP([in_dim, 128, 128, out_dim], nn.ReLU, LEARN_RATE = 0.005)\n",
    "t_net = MLP([in_dim, 128, 128, out_dim], nn.ReLU)\n",
    "optimizer = optim.Adam\n",
    "memory = ReplayMemory(1000, in_dim, out_dim)\n",
    "\n",
    "DQN(env, memory, q_net, t_net, optimizer, steps = 14, eps = 1, disc_factor = 0.99, loss = torch.nn.MSELoss(), batch_sz = 32, tgt_update = 100)\n",
    "\n",
    "s = torch.tensor(env.reset(), dtype=torch.float32)\n",
    "done = False\n",
    "ret = 0\n",
    "while not done:\n",
    "    s, r, done, _ = env.step(torch.argmax(q_net(s)).numpy())\n",
    "    s = torch.tensor(s, dtype=torch.float32)\n",
    "    ret += r\n",
    "    \n",
    "ret"
   ]
  },
  {
   "cell_type": "code",
   "execution_count": 150,
   "metadata": {},
   "outputs": [],
   "source": [
    "s = torch.tensor(env.reset(), dtype=torch.float32)\n",
    "done = False\n",
    "ret = 0\n",
    "while not done:\n",
    "    s, r, done, _ = env.step(torch.argmax(q_net(s)).numpy())\n",
    "    env.render()\n",
    "    s = torch.tensor(s, dtype=torch.float32)\n",
    "    ret += r"
   ]
  },
  {
   "cell_type": "code",
   "execution_count": 235,
   "metadata": {},
   "outputs": [
    {
     "data": {
      "text/plain": [
       "tensor([ 2,  8, 18])"
      ]
     },
     "execution_count": 235,
     "metadata": {},
     "output_type": "execute_result"
    }
   ],
   "source": [
    "torch.tensor([1,2,3]) * torch.tensor([2, 4, 6])"
   ]
  },
  {
   "cell_type": "code",
   "execution_count": 143,
   "metadata": {},
   "outputs": [
    {
     "data": {
      "text/plain": [
       "(tensor([[-0.0449, -0.0448, -0.0150,  0.0103],\n",
       "         [-0.0449, -0.0448, -0.0150,  0.0103],\n",
       "         [-0.0449, -0.0448, -0.0150,  0.0103],\n",
       "         [-0.0449, -0.0448, -0.0150,  0.0103],\n",
       "         [-0.0449, -0.0448, -0.0150,  0.0103]]),\n",
       " tensor([[0.0197, 0.0036],\n",
       "         [0.0197, 0.0036],\n",
       "         [0.0197, 0.0036],\n",
       "         [0.0197, 0.0036],\n",
       "         [0.0197, 0.0036]], grad_fn=<AddmmBackward>),\n",
       " tensor([0.0197, 0.0197, 0.0197, 0.0197, 0.0197], grad_fn=<MaxBackward0>))"
      ]
     },
     "execution_count": 143,
     "metadata": {},
     "output_type": "execute_result"
    }
   ],
   "source": [
    "s = torch.tensor(env.reset(), dtype=torch.float32)\n",
    "s_ = torch.stack([s,s,s,s,s])\n",
    "q_net = MLP([in_dim, 128, 128, out_dim], nn.ReLU)\n",
    "s_, q_net(s_), q_net(s_).max(1)[0]"
   ]
  },
  {
   "cell_type": "code",
   "execution_count": 275,
   "metadata": {},
   "outputs": [
    {
     "data": {
      "text/plain": [
       "tensor(13.)"
      ]
     },
     "execution_count": 275,
     "metadata": {},
     "output_type": "execute_result"
    }
   ],
   "source": [
    "l = torch.nn.MSELoss()\n",
    "l(torch.tensor([1,2,3,4,5,6,7.0]), torch.ones(7))"
   ]
  }
 ],
 "metadata": {
  "kernelspec": {
   "display_name": "Python 3",
   "language": "python",
   "name": "python3"
  },
  "language_info": {
   "codemirror_mode": {
    "name": "ipython",
    "version": 3
   },
   "file_extension": ".py",
   "mimetype": "text/x-python",
   "name": "python",
   "nbconvert_exporter": "python",
   "pygments_lexer": "ipython3",
   "version": "3.7.7"
  }
 },
 "nbformat": 4,
 "nbformat_minor": 4
}
